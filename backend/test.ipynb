{
 "cells": [
  {
   "cell_type": "code",
   "execution_count": 9,
   "metadata": {},
   "outputs": [
    {
     "name": "stdout",
     "output_type": "stream",
     "text": [
      "{\n",
      "\"orders\": [\"orders.csv\", \"orders500000.csv\", \"orders1000000.csv\", \"orders0.csv\"],\n",
      "\"partsupp\": [\"partsupp.csv\"],\n",
      "\"part\": [\"part.csv\"],\n",
      "\"supplier\": [\"supplier.csv\"],\n",
      "\"nation\": [\"nation.csv\"],\n",
      "\"customer\": [\"customer.csv\"],\n",
      "\"region\": [\"region.csv\"],\n",
      "\"lineitem\": [\"lineitem/part2000000.csv\", \"lineitem/part4000000.csv\", \"lineitem/part0.csv\", \"lineitem/part3000000.csv\", \"lineitem/part5000000.csv\", \"lineitem/part6000000.csv\", \"lineitem/part1000000.csv\"],\n",
      "\"UNKNOWN\": [\".DS_Store\", \"README.md\", \"lineitem/.DS_Store\"]\n",
      "}\n"
     ]
    }
   ],
   "source": [
    "from src.llm import LLM\n",
    "import src.schema_infer as si\n",
    "\n",
    "llm = LLM(*LLM.load_keys(\"secrets.json\"))\n",
    "path = \"/Users/alex/workspace/data/tpch1-mixed/\"\n",
    "result = si.create_initial_tables(llm, path, quiet=True)\n",
    "print(result)"
   ]
  },
  {
   "cell_type": "code",
   "execution_count": 3,
   "metadata": {},
   "outputs": [
    {
     "data": {
      "text/plain": [
       "([('integer', False),\n",
       "  ('integer', False),\n",
       "  ('integer', False),\n",
       "  ('integer', False),\n",
       "  ('integer', False),\n",
       "  ('float', False),\n",
       "  ('float', False),\n",
       "  ('float', False),\n",
       "  ('text', False),\n",
       "  ('text', False),\n",
       "  ('date', False),\n",
       "  ('date', False),\n",
       "  ('date', False),\n",
       "  ('text', False),\n",
       "  ('text', False),\n",
       "  ('text', False)],\n",
       " None)"
      ]
     },
     "execution_count": 3,
     "metadata": {},
     "output_type": "execute_result"
    }
   ],
   "source": [
    "import pandas as pd\n",
    "import src.csv_schema_inference as csv_schema_inference\n",
    "\n",
    "FILE = \"/Users/alex/workspace/data/tpch1-mixed/orders500000.csv\"\n",
    "# FILE = \"/Users/alex/workspace/data/diabetes/diabetes.csv\"\n",
    "types, header = csv_schema_inference.create_schema(FILE)\n",
    "\n",
    "if header == None:\n",
    "    prompt = \"I have the following csv file called `orders500000.csv`, there are no column names, could you create some for me?\""
   ]
  },
  {
   "cell_type": "code",
   "execution_count": null,
   "metadata": {},
   "outputs": [],
   "source": []
  }
 ],
 "metadata": {
  "kernelspec": {
   "display_name": "a312",
   "language": "python",
   "name": "python3"
  },
  "language_info": {
   "codemirror_mode": {
    "name": "ipython",
    "version": 3
   },
   "file_extension": ".py",
   "mimetype": "text/x-python",
   "name": "python",
   "nbconvert_exporter": "python",
   "pygments_lexer": "ipython3",
   "version": "3.12.0"
  }
 },
 "nbformat": 4,
 "nbformat_minor": 2
}
