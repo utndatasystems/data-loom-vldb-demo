{
 "cells": [
  {
   "cell_type": "code",
   "execution_count": 1,
   "metadata": {},
   "outputs": [
    {
     "name": "stderr",
     "output_type": "stream",
     "text": [
      "Bottle v0.12.25 server starting up (using WSGIRefServer())...\n",
      "Listening on http://localhost:23001/\n",
      "Hit Ctrl-C to quit.\n",
      "\n",
      "127.0.0.1 - - [04/Mar/2024 14:35:09] \"OPTIONS /rest/infer-schema HTTP/1.1\" 200 0\n",
      "127.0.0.1 - - [04/Mar/2024 14:35:09] \"POST /rest/infer-schema HTTP/1.1\" 200 27\n",
      "127.0.0.1 - - [04/Mar/2024 14:35:34] \"OPTIONS /rest/infer-schema HTTP/1.1\" 200 0\n",
      "127.0.0.1 - - [04/Mar/2024 14:35:34] \"POST /rest/infer-schema HTTP/1.1\" 200 27\n"
     ]
    }
   ],
   "source": [
    "from bottle import Bottle, hook, response, run, route\n",
    "\n",
    "app = Bottle()\n",
    "\n",
    "_allow_origin = 'http://localhost:3000'\n",
    "_allow_methods = 'PUT, GET, POST, DELETE, OPTIONS'\n",
    "_allow_headers = 'Authorization, Origin, Accept, Content-Type, X-Requested-With'\n",
    "\n",
    "@app.hook('after_request')\n",
    "def enable_cors():\n",
    "    response.headers['Access-Control-Allow-Origin'] = _allow_origin\n",
    "    response.headers['Access-Control-Allow-Methods'] = _allow_methods\n",
    "    response.headers['Access-Control-Allow-Headers'] = _allow_headers\n",
    "    response.headers['Access-Control-Allow-Credentials'] = 'true'\n",
    "\n",
    "@app.route('/', method = 'OPTIONS')\n",
    "@app.route('/<path:path>', method = ['OPTIONS', \"GET\", \"POST\"])\n",
    "def options_handler(path = None):\n",
    "    return\n",
    "\n",
    "@app.route('/rest/infer-schema', method=['GET', 'POST'])\n",
    "def hello():\n",
    "    response.content_type = 'application/json'\n",
    "    return {\"test\": \"hello my world!\"}\n",
    "\n",
    "run(app, host='localhost', port=23001, debug=True)"
   ]
  },
  {
   "cell_type": "code",
   "execution_count": null,
   "metadata": {},
   "outputs": [],
   "source": []
  }
 ],
 "metadata": {
  "kernelspec": {
   "display_name": "a312",
   "language": "python",
   "name": "python3"
  },
  "language_info": {
   "codemirror_mode": {
    "name": "ipython",
    "version": 3
   },
   "file_extension": ".py",
   "mimetype": "text/x-python",
   "name": "python",
   "nbconvert_exporter": "python",
   "pygments_lexer": "ipython3",
   "version": "3.12.0"
  }
 },
 "nbformat": 4,
 "nbformat_minor": 2
}
