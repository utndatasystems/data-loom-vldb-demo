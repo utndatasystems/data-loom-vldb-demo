{
 "cells": [
  {
   "cell_type": "code",
   "execution_count": 9,
   "metadata": {},
   "outputs": [
    {
     "name": "stdout",
     "output_type": "stream",
     "text": [
      "{\n",
      "\"orders\": [\"orders.csv\", \"orders500000.csv\", \"orders1000000.csv\", \"orders0.csv\"],\n",
      "\"partsupp\": [\"partsupp.csv\"],\n",
      "\"part\": [\"part.csv\"],\n",
      "\"supplier\": [\"supplier.csv\"],\n",
      "\"nation\": [\"nation.csv\"],\n",
      "\"customer\": [\"customer.csv\"],\n",
      "\"region\": [\"region.csv\"],\n",
      "\"lineitem\": [\"lineitem/part2000000.csv\", \"lineitem/part4000000.csv\", \"lineitem/part0.csv\", \"lineitem/part3000000.csv\", \"lineitem/part5000000.csv\", \"lineitem/part6000000.csv\", \"lineitem/part1000000.csv\"],\n",
      "\"UNKNOWN\": [\".DS_Store\", \"README.md\", \"lineitem/.DS_Store\"]\n",
      "}\n"
     ]
    }
   ],
   "source": [
    "from src.llm import LLM\n",
    "import src.schema_infer as si\n",
    "\n",
    "llm = LLM(*LLM.load_keys(\"secrets.json\"))\n",
    "path = \"/Users/alex/workspace/data/tpch1-mixed/\"\n",
    "result = si.create_initial_tables(llm, path, quiet=True)\n",
    "print(result)"
   ]
  },
  {
   "cell_type": "code",
   "execution_count": 1,
   "metadata": {},
   "outputs": [
    {
     "data": {
      "text/html": [
       "<div>\n",
       "<style scoped>\n",
       "    .dataframe tbody tr th:only-of-type {\n",
       "        vertical-align: middle;\n",
       "    }\n",
       "\n",
       "    .dataframe tbody tr th {\n",
       "        vertical-align: top;\n",
       "    }\n",
       "\n",
       "    .dataframe thead th {\n",
       "        text-align: right;\n",
       "    }\n",
       "</style>\n",
       "<table border=\"1\" class=\"dataframe\">\n",
       "  <thead>\n",
       "    <tr style=\"text-align: right;\">\n",
       "      <th></th>\n",
       "      <th>?column?</th>\n",
       "    </tr>\n",
       "  </thead>\n",
       "  <tbody>\n",
       "    <tr>\n",
       "      <th>0</th>\n",
       "      <td>1</td>\n",
       "    </tr>\n",
       "  </tbody>\n",
       "</table>\n",
       "</div>"
      ],
      "text/plain": [
       "   ?column?\n",
       "0         1"
      ]
     },
     "execution_count": 1,
     "metadata": {},
     "output_type": "execute_result"
    }
   ],
   "source": [
    "from src.database import Database\n",
    "\n",
    "db = Database.create()\n",
    "db.run_query(\"select 1;\")"
   ]
  },
  {
   "cell_type": "code",
   "execution_count": 1,
   "metadata": {},
   "outputs": [
    {
     "data": {
      "text/plain": [
       "[1, 2, 3]"
      ]
     },
     "execution_count": 1,
     "metadata": {},
     "output_type": "execute_result"
    }
   ],
   "source": [
    "\n",
    "[1, 2, 3, 4][:-1]"
   ]
  },
  {
   "cell_type": "code",
   "execution_count": null,
   "metadata": {},
   "outputs": [],
   "source": []
  }
 ],
 "metadata": {
  "kernelspec": {
   "display_name": "a312",
   "language": "python",
   "name": "python3"
  },
  "language_info": {
   "codemirror_mode": {
    "name": "ipython",
    "version": 3
   },
   "file_extension": ".py",
   "mimetype": "text/x-python",
   "name": "python",
   "nbconvert_exporter": "python",
   "pygments_lexer": "ipython3",
   "version": "3.12.0"
  }
 },
 "nbformat": 4,
 "nbformat_minor": 2
}
