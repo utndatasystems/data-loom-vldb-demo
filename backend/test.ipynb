{
 "cells": [
  {
   "cell_type": "code",
   "execution_count": 9,
   "metadata": {},
   "outputs": [
    {
     "name": "stdout",
     "output_type": "stream",
     "text": [
      "{\n",
      "\"orders\": [\"orders.csv\", \"orders500000.csv\", \"orders1000000.csv\", \"orders0.csv\"],\n",
      "\"partsupp\": [\"partsupp.csv\"],\n",
      "\"part\": [\"part.csv\"],\n",
      "\"supplier\": [\"supplier.csv\"],\n",
      "\"nation\": [\"nation.csv\"],\n",
      "\"customer\": [\"customer.csv\"],\n",
      "\"region\": [\"region.csv\"],\n",
      "\"lineitem\": [\"lineitem/part2000000.csv\", \"lineitem/part4000000.csv\", \"lineitem/part0.csv\", \"lineitem/part3000000.csv\", \"lineitem/part5000000.csv\", \"lineitem/part6000000.csv\", \"lineitem/part1000000.csv\"],\n",
      "\"UNKNOWN\": [\".DS_Store\", \"README.md\", \"lineitem/.DS_Store\"]\n",
      "}\n"
     ]
    }
   ],
   "source": [
    "from llm import LLM\n",
    "import schema_infer as si\n",
    "\n",
    "llm = LLM(*LLM.load_keys(\"secrets.json\"))\n",
    "path = \"/Users/alex/workspace/data/tpch1-mixed/\"\n",
    "result = si.create_initial_tables(llm, path, quiet=True)\n",
    "print(result)"
   ]
  },
  {
   "cell_type": "code",
   "execution_count": 8,
   "metadata": {},
   "outputs": [
    {
     "name": "stdout",
     "output_type": "stream",
     "text": [
      "{\n",
      "    \"orders\": 100,\n",
      "    \"partsupp\": 100,\n",
      "    \"part\": 100,\n",
      "    \"supplier\": 100,\n",
      "    \"nation\": 100,\n",
      "    \"customer\": 100,\n",
      "    \"region\": 100,\n",
      "    \"lineitem\": 100,\n",
      "    \"UNKNOWN\": 50\n",
      "}\n"
     ]
    }
   ],
   "source": [
    "prompt = \"\"\"\n",
    "I have the following files:\n",
    "['orders.csv', '.DS_Store', 'partsupp.csv', 'orders500000.csv', 'part.csv', 'supplier.csv', 'nation.csv', 'customer.csv', 'orders1000000.csv', 'README.md', 'orders0.csv', 'region.csv', 'lineitem/part2000000.csv', 'lineitem/.DS_Store', 'lineitem/part4000000.csv', 'lineitem/part0.csv', 'lineitem/part3000000.csv', 'lineitem/part5000000.csv', 'lineitem/part6000000.csv', 'lineitem/part1000000.csv']\n",
    "\n",
    "And I mapped them to the following tables. How confident are you in this mapping? Give me a percentage for each table (UNKNOWN is not a table, it's a placeholder for files that don't belong to any table).\n",
    "{\n",
    "\"orders\": [\"orders.csv\", \"orders500000.csv\", \"orders1000000.csv\", \"orders0.csv\"],\n",
    "\"partsupp\": [\"partsupp.csv\"],\n",
    "\"part\": [\"part.csv\"],\n",
    "\"supplier\": [\"supplier.csv\"],\n",
    "\"nation\": [\"nation.csv\"],\n",
    "\"customer\": [\"customer.csv\"],\n",
    "\"region\": [\"region.csv\"],\n",
    "\"lineitem\": [\"lineitem/part2000000.csv\", \"lineitem/part4000000.csv\", \"lineitem/part0.csv\", \"lineitem/part3000000.csv\", \"lineitem/part5000000.csv\", \"lineitem/part6000000.csv\", \"lineitem/part1000000.csv\"],\n",
    "\"UNKNOWN\": [\".DS_Store\", \"README.md\", \"lineitem/.DS_Store\"]\n",
    "}\n",
    "\n",
    "Please format your output as a json file.\n",
    "\"\"\""
   ]
  },
  {
   "cell_type": "code",
   "execution_count": null,
   "metadata": {},
   "outputs": [],
   "source": []
  }
 ],
 "metadata": {
  "kernelspec": {
   "display_name": "a312",
   "language": "python",
   "name": "python3"
  },
  "language_info": {
   "codemirror_mode": {
    "name": "ipython",
    "version": 3
   },
   "file_extension": ".py",
   "mimetype": "text/x-python",
   "name": "python",
   "nbconvert_exporter": "python",
   "pygments_lexer": "ipython3",
   "version": "3.12.0"
  }
 },
 "nbformat": 4,
 "nbformat_minor": 2
}
